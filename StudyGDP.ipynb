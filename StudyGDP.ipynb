{
  "nbformat": 4,
  "nbformat_minor": 0,
  "metadata": {
    "colab": {
      "provenance": [],
      "include_colab_link": true
    },
    "kernelspec": {
      "name": "python3",
      "display_name": "Python 3"
    },
    "language_info": {
      "name": "python"
    }
  },
  "cells": [
    {
      "cell_type": "markdown",
      "metadata": {
        "id": "view-in-github",
        "colab_type": "text"
      },
      "source": [
        "<a href=\"https://colab.research.google.com/github/Its-Laba/DataProjects/blob/main/StudyGDP.ipynb\" target=\"_parent\"><img src=\"https://colab.research.google.com/assets/colab-badge.svg\" alt=\"Open In Colab\"/></a>"
      ]
    },
    {
      "cell_type": "markdown",
      "source": [
        "# STUDY OF GDP"
      ],
      "metadata": {
        "id": "I33ZfRN6aNDZ"
      }
    },
    {
      "cell_type": "markdown",
      "source": [
        "In this document we will present the cleaning and exploratory analysis of a dataset where the GDP from 1960 to 2021 is exposed. *Dataset extracted from kaggle*"
      ],
      "metadata": {
        "id": "yF_lcxQlY4fq"
      }
    },
    {
      "cell_type": "markdown",
      "source": [
        "The purpose of this workbook is to explore the archive by understanding each of the columns and visualizing the change of the GDP over time."
      ],
      "metadata": {
        "id": "3n0jAzDqaSFi"
      }
    },
    {
      "cell_type": "markdown",
      "source": [
        "## Imports"
      ],
      "metadata": {
        "id": "IPQ4-5d0aDDX"
      }
    },
    {
      "cell_type": "markdown",
      "source": [
        "To start with this notebook we must first import the libraries we are going to use."
      ],
      "metadata": {
        "id": "9MNuX0jJadU5"
      }
    },
    {
      "cell_type": "code",
      "execution_count": 1,
      "metadata": {
        "id": "PUH0trZQYG60"
      },
      "outputs": [],
      "source": [
        "# Author: Its_Laba ----- Lucas Abad \n",
        "\n",
        "import numpy as np\n",
        "import pandas as pd"
      ]
    },
    {
      "cell_type": "markdown",
      "source": [
        "## Loading data"
      ],
      "metadata": {
        "id": "XH_D9i9Lat2Z"
      }
    },
    {
      "cell_type": "markdown",
      "source": [
        "To facilitate the reproduction of the program we loaded the dataset from Google Drive. For more information about the dataset you can view it in the following link of kaggle:"
      ],
      "metadata": {
        "id": "E2gRtUb_ayn8"
      }
    },
    {
      "cell_type": "markdown",
      "source": [
        "[Dataset](https://www.kaggle.com/datasets/yapwh1208/countries-gdp-2012-to-2021?resource=download)"
      ],
      "metadata": {
        "id": "MPtBA2LCbg1d"
      }
    },
    {
      "cell_type": "code",
      "source": [
        "!gdown https://drive.google.com/uc?id=1I3_zHwKYJfUX9H-ZzT5R36fJQZu5_Auo"
      ],
      "metadata": {
        "colab": {
          "base_uri": "https://localhost:8080/"
        },
        "id": "CoUu4_3lcV8P",
        "outputId": "4f412dfa-bc7a-4def-ea87-055a0c2ef01b"
      },
      "execution_count": 2,
      "outputs": [
        {
          "output_type": "stream",
          "name": "stdout",
          "text": [
            "Downloading...\n",
            "From: https://drive.google.com/uc?id=1I3_zHwKYJfUX9H-ZzT5R36fJQZu5_Auo\n",
            "To: /content/GDP.csv\n",
            "\r  0% 0.00/165k [00:00<?, ?B/s]\r100% 165k/165k [00:00<00:00, 23.4MB/s]\n"
          ]
        }
      ]
    },
    {
      "cell_type": "code",
      "source": [
        "file_name = \"GDP.csv\"\n",
        "df = pd.read_csv(file_name)"
      ],
      "metadata": {
        "id": "dpASXyJrdiKG"
      },
      "execution_count": 3,
      "outputs": []
    },
    {
      "cell_type": "markdown",
      "source": [
        "There is no need to indicate any separator in the pandas method and we can display some lines of the table to start looking at the data."
      ],
      "metadata": {
        "id": "gHJv9Krbd8jR"
      }
    },
    {
      "cell_type": "code",
      "source": [
        "df.head(2)"
      ],
      "metadata": {
        "colab": {
          "base_uri": "https://localhost:8080/",
          "height": 275
        },
        "id": "W5oqYLXEdsY5",
        "outputId": "eb3360c5-f724-40c2-dddc-cc7fc4a58d7f"
      },
      "execution_count": 4,
      "outputs": [
        {
          "output_type": "execute_result",
          "data": {
            "text/plain": [
              "                  Country Name Country Code        1960        1961  \\\n",
              "0                        Aruba          ABW         NaN         NaN   \n",
              "1  Africa Eastern and Southern          AFE  162.913035  162.551683   \n",
              "\n",
              "        1962        1963        1964        1965        1966       1967  ...  \\\n",
              "0        NaN         NaN         NaN         NaN         NaN        NaN  ...   \n",
              "1  172.00246  199.189238  179.387799  198.230368  209.414665  211.70706  ...   \n",
              "\n",
              "           2012          2013          2014          2015          2016  \\\n",
              "0  25609.955720  26515.678080  26942.307980  28421.386490  28451.273740   \n",
              "1   1759.182395   1730.394686   1719.183721   1538.552268   1443.692371   \n",
              "\n",
              "           2017         2018          2019          2020         2021  \n",
              "0  29326.708060  30220.59452  31650.760540  24487.863560  29342.10086  \n",
              "1   1628.586788   1564.73434   1512.270553   1363.540741   1549.77273  \n",
              "\n",
              "[2 rows x 64 columns]"
            ],
            "text/html": [
              "\n",
              "  <div id=\"df-77b3704c-664c-4412-b5a7-f78cebe9144c\">\n",
              "    <div class=\"colab-df-container\">\n",
              "      <div>\n",
              "<style scoped>\n",
              "    .dataframe tbody tr th:only-of-type {\n",
              "        vertical-align: middle;\n",
              "    }\n",
              "\n",
              "    .dataframe tbody tr th {\n",
              "        vertical-align: top;\n",
              "    }\n",
              "\n",
              "    .dataframe thead th {\n",
              "        text-align: right;\n",
              "    }\n",
              "</style>\n",
              "<table border=\"1\" class=\"dataframe\">\n",
              "  <thead>\n",
              "    <tr style=\"text-align: right;\">\n",
              "      <th></th>\n",
              "      <th>Country Name</th>\n",
              "      <th>Country Code</th>\n",
              "      <th>1960</th>\n",
              "      <th>1961</th>\n",
              "      <th>1962</th>\n",
              "      <th>1963</th>\n",
              "      <th>1964</th>\n",
              "      <th>1965</th>\n",
              "      <th>1966</th>\n",
              "      <th>1967</th>\n",
              "      <th>...</th>\n",
              "      <th>2012</th>\n",
              "      <th>2013</th>\n",
              "      <th>2014</th>\n",
              "      <th>2015</th>\n",
              "      <th>2016</th>\n",
              "      <th>2017</th>\n",
              "      <th>2018</th>\n",
              "      <th>2019</th>\n",
              "      <th>2020</th>\n",
              "      <th>2021</th>\n",
              "    </tr>\n",
              "  </thead>\n",
              "  <tbody>\n",
              "    <tr>\n",
              "      <th>0</th>\n",
              "      <td>Aruba</td>\n",
              "      <td>ABW</td>\n",
              "      <td>NaN</td>\n",
              "      <td>NaN</td>\n",
              "      <td>NaN</td>\n",
              "      <td>NaN</td>\n",
              "      <td>NaN</td>\n",
              "      <td>NaN</td>\n",
              "      <td>NaN</td>\n",
              "      <td>NaN</td>\n",
              "      <td>...</td>\n",
              "      <td>25609.955720</td>\n",
              "      <td>26515.678080</td>\n",
              "      <td>26942.307980</td>\n",
              "      <td>28421.386490</td>\n",
              "      <td>28451.273740</td>\n",
              "      <td>29326.708060</td>\n",
              "      <td>30220.59452</td>\n",
              "      <td>31650.760540</td>\n",
              "      <td>24487.863560</td>\n",
              "      <td>29342.10086</td>\n",
              "    </tr>\n",
              "    <tr>\n",
              "      <th>1</th>\n",
              "      <td>Africa Eastern and Southern</td>\n",
              "      <td>AFE</td>\n",
              "      <td>162.913035</td>\n",
              "      <td>162.551683</td>\n",
              "      <td>172.00246</td>\n",
              "      <td>199.189238</td>\n",
              "      <td>179.387799</td>\n",
              "      <td>198.230368</td>\n",
              "      <td>209.414665</td>\n",
              "      <td>211.70706</td>\n",
              "      <td>...</td>\n",
              "      <td>1759.182395</td>\n",
              "      <td>1730.394686</td>\n",
              "      <td>1719.183721</td>\n",
              "      <td>1538.552268</td>\n",
              "      <td>1443.692371</td>\n",
              "      <td>1628.586788</td>\n",
              "      <td>1564.73434</td>\n",
              "      <td>1512.270553</td>\n",
              "      <td>1363.540741</td>\n",
              "      <td>1549.77273</td>\n",
              "    </tr>\n",
              "  </tbody>\n",
              "</table>\n",
              "<p>2 rows × 64 columns</p>\n",
              "</div>\n",
              "      <button class=\"colab-df-convert\" onclick=\"convertToInteractive('df-77b3704c-664c-4412-b5a7-f78cebe9144c')\"\n",
              "              title=\"Convert this dataframe to an interactive table.\"\n",
              "              style=\"display:none;\">\n",
              "        \n",
              "  <svg xmlns=\"http://www.w3.org/2000/svg\" height=\"24px\"viewBox=\"0 0 24 24\"\n",
              "       width=\"24px\">\n",
              "    <path d=\"M0 0h24v24H0V0z\" fill=\"none\"/>\n",
              "    <path d=\"M18.56 5.44l.94 2.06.94-2.06 2.06-.94-2.06-.94-.94-2.06-.94 2.06-2.06.94zm-11 1L8.5 8.5l.94-2.06 2.06-.94-2.06-.94L8.5 2.5l-.94 2.06-2.06.94zm10 10l.94 2.06.94-2.06 2.06-.94-2.06-.94-.94-2.06-.94 2.06-2.06.94z\"/><path d=\"M17.41 7.96l-1.37-1.37c-.4-.4-.92-.59-1.43-.59-.52 0-1.04.2-1.43.59L10.3 9.45l-7.72 7.72c-.78.78-.78 2.05 0 2.83L4 21.41c.39.39.9.59 1.41.59.51 0 1.02-.2 1.41-.59l7.78-7.78 2.81-2.81c.8-.78.8-2.07 0-2.86zM5.41 20L4 18.59l7.72-7.72 1.47 1.35L5.41 20z\"/>\n",
              "  </svg>\n",
              "      </button>\n",
              "      \n",
              "  <style>\n",
              "    .colab-df-container {\n",
              "      display:flex;\n",
              "      flex-wrap:wrap;\n",
              "      gap: 12px;\n",
              "    }\n",
              "\n",
              "    .colab-df-convert {\n",
              "      background-color: #E8F0FE;\n",
              "      border: none;\n",
              "      border-radius: 50%;\n",
              "      cursor: pointer;\n",
              "      display: none;\n",
              "      fill: #1967D2;\n",
              "      height: 32px;\n",
              "      padding: 0 0 0 0;\n",
              "      width: 32px;\n",
              "    }\n",
              "\n",
              "    .colab-df-convert:hover {\n",
              "      background-color: #E2EBFA;\n",
              "      box-shadow: 0px 1px 2px rgba(60, 64, 67, 0.3), 0px 1px 3px 1px rgba(60, 64, 67, 0.15);\n",
              "      fill: #174EA6;\n",
              "    }\n",
              "\n",
              "    [theme=dark] .colab-df-convert {\n",
              "      background-color: #3B4455;\n",
              "      fill: #D2E3FC;\n",
              "    }\n",
              "\n",
              "    [theme=dark] .colab-df-convert:hover {\n",
              "      background-color: #434B5C;\n",
              "      box-shadow: 0px 1px 3px 1px rgba(0, 0, 0, 0.15);\n",
              "      filter: drop-shadow(0px 1px 2px rgba(0, 0, 0, 0.3));\n",
              "      fill: #FFFFFF;\n",
              "    }\n",
              "  </style>\n",
              "\n",
              "      <script>\n",
              "        const buttonEl =\n",
              "          document.querySelector('#df-77b3704c-664c-4412-b5a7-f78cebe9144c button.colab-df-convert');\n",
              "        buttonEl.style.display =\n",
              "          google.colab.kernel.accessAllowed ? 'block' : 'none';\n",
              "\n",
              "        async function convertToInteractive(key) {\n",
              "          const element = document.querySelector('#df-77b3704c-664c-4412-b5a7-f78cebe9144c');\n",
              "          const dataTable =\n",
              "            await google.colab.kernel.invokeFunction('convertToInteractive',\n",
              "                                                     [key], {});\n",
              "          if (!dataTable) return;\n",
              "\n",
              "          const docLinkHtml = 'Like what you see? Visit the ' +\n",
              "            '<a target=\"_blank\" href=https://colab.research.google.com/notebooks/data_table.ipynb>data table notebook</a>'\n",
              "            + ' to learn more about interactive tables.';\n",
              "          element.innerHTML = '';\n",
              "          dataTable['output_type'] = 'display_data';\n",
              "          await google.colab.output.renderOutput(dataTable, element);\n",
              "          const docLink = document.createElement('div');\n",
              "          docLink.innerHTML = docLinkHtml;\n",
              "          element.appendChild(docLink);\n",
              "        }\n",
              "      </script>\n",
              "    </div>\n",
              "  </div>\n",
              "  "
            ]
          },
          "metadata": {},
          "execution_count": 4
        }
      ]
    },
    {
      "cell_type": "markdown",
      "source": [
        "Looking at these two lines we can see that the table consists of one row per country with 64 columns 2 to indicate the name of the country and 62 for each GDP value in its year. We can also see that not all columns have values."
      ],
      "metadata": {
        "id": "HF2G1OzbeaR9"
      }
    },
    {
      "cell_type": "markdown",
      "source": [
        "## Cleaning the data"
      ],
      "metadata": {
        "id": "ooV0PcphfWIq"
      }
    },
    {
      "cell_type": "markdown",
      "source": [
        "The dataset is quite clean so in this section we will check that the data types are correct and normalize the column names."
      ],
      "metadata": {
        "id": "ZPRLfzzKfgPI"
      }
    },
    {
      "cell_type": "code",
      "source": [
        "# ----- Normalize columns -----\n",
        "columns = list(df.columns) \n",
        "columns[0] = \"Country_Name\"\n",
        "columns[1] = \"Country_Code\"\n",
        "df.columns = columns\n",
        "df.columns"
      ],
      "metadata": {
        "colab": {
          "base_uri": "https://localhost:8080/"
        },
        "id": "xVA-cox4duJ2",
        "outputId": "2a4c8cef-6068-4884-bf22-f758867aa76f"
      },
      "execution_count": 5,
      "outputs": [
        {
          "output_type": "execute_result",
          "data": {
            "text/plain": [
              "Index(['Country_Name', 'Country_Code', '1960', '1961', '1962', '1963', '1964',\n",
              "       '1965', '1966', '1967', '1968', '1969', '1970', '1971', '1972', '1973',\n",
              "       '1974', '1975', '1976', '1977', '1978', '1979', '1980', '1981', '1982',\n",
              "       '1983', '1984', '1985', '1986', '1987', '1988', '1989', '1990', '1991',\n",
              "       '1992', '1993', '1994', '1995', '1996', '1997', '1998', '1999', '2000',\n",
              "       '2001', '2002', '2003', '2004', '2005', '2006', '2007', '2008', '2009',\n",
              "       '2010', '2011', '2012', '2013', '2014', '2015', '2016', '2017', '2018',\n",
              "       '2019', '2020', '2021'],\n",
              "      dtype='object')"
            ]
          },
          "metadata": {},
          "execution_count": 5
        }
      ]
    },
    {
      "cell_type": "markdown",
      "source": [
        "Cause we have 64 columns I will use dtypes instead of info() because info() will make the notebook very friendly to check the different types."
      ],
      "metadata": {
        "id": "eWdOW0Zag9bH"
      }
    },
    {
      "cell_type": "code",
      "source": [
        "df.dtypes"
      ],
      "metadata": {
        "colab": {
          "base_uri": "https://localhost:8080/"
        },
        "id": "7HQ8Fln1gZMw",
        "outputId": "b2a38558-592c-4b71-bd8d-50b7e262a70a"
      },
      "execution_count": 6,
      "outputs": [
        {
          "output_type": "execute_result",
          "data": {
            "text/plain": [
              "Country_Name     object\n",
              "Country_Code     object\n",
              "1960            float64\n",
              "1961            float64\n",
              "1962            float64\n",
              "                 ...   \n",
              "2017            float64\n",
              "2018            float64\n",
              "2019            float64\n",
              "2020            float64\n",
              "2021            float64\n",
              "Length: 64, dtype: object"
            ]
          },
          "metadata": {},
          "execution_count": 6
        }
      ]
    },
    {
      "cell_type": "markdown",
      "source": [
        "We observe that in the columns of years the types are ok since they are going to be floats, but the first two columns have an object type. We are going to force Country_Name and Country_Code to be strings."
      ],
      "metadata": {
        "id": "tWZTOcG9ii5d"
      }
    },
    {
      "cell_type": "code",
      "source": [
        "df[[\"Country_Name\", \"Country_Code\"]] = df[[\"Country_Name\", \"Country_Code\"]].astype(\"string\")"
      ],
      "metadata": {
        "id": "vYoGnkKhhEbD"
      },
      "execution_count": 7,
      "outputs": []
    },
    {
      "cell_type": "code",
      "source": [
        "# TEST ----------------\n",
        "print(\"Type of Country_Name:\", df[\"Country_Name\"].dtype)\n",
        "print(\"Type of Country_Code:\", df[\"Country_Code\"].dtype)"
      ],
      "metadata": {
        "colab": {
          "base_uri": "https://localhost:8080/"
        },
        "id": "GuN6quQQjfIO",
        "outputId": "c2c4ee25-7d66-4425-dc23-eba98ae966f8"
      },
      "execution_count": 8,
      "outputs": [
        {
          "output_type": "stream",
          "name": "stdout",
          "text": [
            "Type of Country_Name: string\n",
            "Type of Country_Code: string\n"
          ]
        }
      ]
    },
    {
      "cell_type": "markdown",
      "source": [
        "Finally, before exploring the data, we will replace all nulls by zeros for a better graphical representation in the future."
      ],
      "metadata": {
        "id": "wFjzqUqMlg5w"
      }
    },
    {
      "cell_type": "code",
      "source": [
        "df_clean = df.replace(np.nan,0);"
      ],
      "metadata": {
        "id": "09GHT4AskJRi"
      },
      "execution_count": 9,
      "outputs": []
    },
    {
      "cell_type": "code",
      "source": [
        "# TEST ---------------\n",
        "if df_clean[\"1960\"][0] == 0 :\n",
        "  print(\"NaN's replace by 0's\")"
      ],
      "metadata": {
        "colab": {
          "base_uri": "https://localhost:8080/"
        },
        "id": "_U75x1bgl9yq",
        "outputId": "95001948-040c-45d9-cb62-2b7924b32a11"
      },
      "execution_count": 10,
      "outputs": [
        {
          "output_type": "stream",
          "name": "stdout",
          "text": [
            "NaN's replace by 0's\n"
          ]
        }
      ]
    },
    {
      "cell_type": "markdown",
      "source": [
        "Testing if everything is okey before exploring the data."
      ],
      "metadata": {
        "id": "ORlCxFDDnBop"
      }
    },
    {
      "cell_type": "code",
      "source": [
        "df_clean.head(2)"
      ],
      "metadata": {
        "colab": {
          "base_uri": "https://localhost:8080/",
          "height": 240
        },
        "id": "Po7SAl4LmOFW",
        "outputId": "075da61d-dcae-40f1-9262-53742923dbc4"
      },
      "execution_count": 11,
      "outputs": [
        {
          "output_type": "execute_result",
          "data": {
            "text/plain": [
              "                  Country_Name Country_Code        1960        1961  \\\n",
              "0                        Aruba          ABW    0.000000    0.000000   \n",
              "1  Africa Eastern and Southern          AFE  162.913035  162.551683   \n",
              "\n",
              "        1962        1963        1964        1965        1966       1967  ...  \\\n",
              "0    0.00000    0.000000    0.000000    0.000000    0.000000    0.00000  ...   \n",
              "1  172.00246  199.189238  179.387799  198.230368  209.414665  211.70706  ...   \n",
              "\n",
              "           2012          2013          2014          2015          2016  \\\n",
              "0  25609.955720  26515.678080  26942.307980  28421.386490  28451.273740   \n",
              "1   1759.182395   1730.394686   1719.183721   1538.552268   1443.692371   \n",
              "\n",
              "           2017         2018          2019          2020         2021  \n",
              "0  29326.708060  30220.59452  31650.760540  24487.863560  29342.10086  \n",
              "1   1628.586788   1564.73434   1512.270553   1363.540741   1549.77273  \n",
              "\n",
              "[2 rows x 64 columns]"
            ],
            "text/html": [
              "\n",
              "  <div id=\"df-a08ee765-a865-40c6-a7c7-7953c8aadd0e\">\n",
              "    <div class=\"colab-df-container\">\n",
              "      <div>\n",
              "<style scoped>\n",
              "    .dataframe tbody tr th:only-of-type {\n",
              "        vertical-align: middle;\n",
              "    }\n",
              "\n",
              "    .dataframe tbody tr th {\n",
              "        vertical-align: top;\n",
              "    }\n",
              "\n",
              "    .dataframe thead th {\n",
              "        text-align: right;\n",
              "    }\n",
              "</style>\n",
              "<table border=\"1\" class=\"dataframe\">\n",
              "  <thead>\n",
              "    <tr style=\"text-align: right;\">\n",
              "      <th></th>\n",
              "      <th>Country_Name</th>\n",
              "      <th>Country_Code</th>\n",
              "      <th>1960</th>\n",
              "      <th>1961</th>\n",
              "      <th>1962</th>\n",
              "      <th>1963</th>\n",
              "      <th>1964</th>\n",
              "      <th>1965</th>\n",
              "      <th>1966</th>\n",
              "      <th>1967</th>\n",
              "      <th>...</th>\n",
              "      <th>2012</th>\n",
              "      <th>2013</th>\n",
              "      <th>2014</th>\n",
              "      <th>2015</th>\n",
              "      <th>2016</th>\n",
              "      <th>2017</th>\n",
              "      <th>2018</th>\n",
              "      <th>2019</th>\n",
              "      <th>2020</th>\n",
              "      <th>2021</th>\n",
              "    </tr>\n",
              "  </thead>\n",
              "  <tbody>\n",
              "    <tr>\n",
              "      <th>0</th>\n",
              "      <td>Aruba</td>\n",
              "      <td>ABW</td>\n",
              "      <td>0.000000</td>\n",
              "      <td>0.000000</td>\n",
              "      <td>0.00000</td>\n",
              "      <td>0.000000</td>\n",
              "      <td>0.000000</td>\n",
              "      <td>0.000000</td>\n",
              "      <td>0.000000</td>\n",
              "      <td>0.00000</td>\n",
              "      <td>...</td>\n",
              "      <td>25609.955720</td>\n",
              "      <td>26515.678080</td>\n",
              "      <td>26942.307980</td>\n",
              "      <td>28421.386490</td>\n",
              "      <td>28451.273740</td>\n",
              "      <td>29326.708060</td>\n",
              "      <td>30220.59452</td>\n",
              "      <td>31650.760540</td>\n",
              "      <td>24487.863560</td>\n",
              "      <td>29342.10086</td>\n",
              "    </tr>\n",
              "    <tr>\n",
              "      <th>1</th>\n",
              "      <td>Africa Eastern and Southern</td>\n",
              "      <td>AFE</td>\n",
              "      <td>162.913035</td>\n",
              "      <td>162.551683</td>\n",
              "      <td>172.00246</td>\n",
              "      <td>199.189238</td>\n",
              "      <td>179.387799</td>\n",
              "      <td>198.230368</td>\n",
              "      <td>209.414665</td>\n",
              "      <td>211.70706</td>\n",
              "      <td>...</td>\n",
              "      <td>1759.182395</td>\n",
              "      <td>1730.394686</td>\n",
              "      <td>1719.183721</td>\n",
              "      <td>1538.552268</td>\n",
              "      <td>1443.692371</td>\n",
              "      <td>1628.586788</td>\n",
              "      <td>1564.73434</td>\n",
              "      <td>1512.270553</td>\n",
              "      <td>1363.540741</td>\n",
              "      <td>1549.77273</td>\n",
              "    </tr>\n",
              "  </tbody>\n",
              "</table>\n",
              "<p>2 rows × 64 columns</p>\n",
              "</div>\n",
              "      <button class=\"colab-df-convert\" onclick=\"convertToInteractive('df-a08ee765-a865-40c6-a7c7-7953c8aadd0e')\"\n",
              "              title=\"Convert this dataframe to an interactive table.\"\n",
              "              style=\"display:none;\">\n",
              "        \n",
              "  <svg xmlns=\"http://www.w3.org/2000/svg\" height=\"24px\"viewBox=\"0 0 24 24\"\n",
              "       width=\"24px\">\n",
              "    <path d=\"M0 0h24v24H0V0z\" fill=\"none\"/>\n",
              "    <path d=\"M18.56 5.44l.94 2.06.94-2.06 2.06-.94-2.06-.94-.94-2.06-.94 2.06-2.06.94zm-11 1L8.5 8.5l.94-2.06 2.06-.94-2.06-.94L8.5 2.5l-.94 2.06-2.06.94zm10 10l.94 2.06.94-2.06 2.06-.94-2.06-.94-.94-2.06-.94 2.06-2.06.94z\"/><path d=\"M17.41 7.96l-1.37-1.37c-.4-.4-.92-.59-1.43-.59-.52 0-1.04.2-1.43.59L10.3 9.45l-7.72 7.72c-.78.78-.78 2.05 0 2.83L4 21.41c.39.39.9.59 1.41.59.51 0 1.02-.2 1.41-.59l7.78-7.78 2.81-2.81c.8-.78.8-2.07 0-2.86zM5.41 20L4 18.59l7.72-7.72 1.47 1.35L5.41 20z\"/>\n",
              "  </svg>\n",
              "      </button>\n",
              "      \n",
              "  <style>\n",
              "    .colab-df-container {\n",
              "      display:flex;\n",
              "      flex-wrap:wrap;\n",
              "      gap: 12px;\n",
              "    }\n",
              "\n",
              "    .colab-df-convert {\n",
              "      background-color: #E8F0FE;\n",
              "      border: none;\n",
              "      border-radius: 50%;\n",
              "      cursor: pointer;\n",
              "      display: none;\n",
              "      fill: #1967D2;\n",
              "      height: 32px;\n",
              "      padding: 0 0 0 0;\n",
              "      width: 32px;\n",
              "    }\n",
              "\n",
              "    .colab-df-convert:hover {\n",
              "      background-color: #E2EBFA;\n",
              "      box-shadow: 0px 1px 2px rgba(60, 64, 67, 0.3), 0px 1px 3px 1px rgba(60, 64, 67, 0.15);\n",
              "      fill: #174EA6;\n",
              "    }\n",
              "\n",
              "    [theme=dark] .colab-df-convert {\n",
              "      background-color: #3B4455;\n",
              "      fill: #D2E3FC;\n",
              "    }\n",
              "\n",
              "    [theme=dark] .colab-df-convert:hover {\n",
              "      background-color: #434B5C;\n",
              "      box-shadow: 0px 1px 3px 1px rgba(0, 0, 0, 0.15);\n",
              "      filter: drop-shadow(0px 1px 2px rgba(0, 0, 0, 0.3));\n",
              "      fill: #FFFFFF;\n",
              "    }\n",
              "  </style>\n",
              "\n",
              "      <script>\n",
              "        const buttonEl =\n",
              "          document.querySelector('#df-a08ee765-a865-40c6-a7c7-7953c8aadd0e button.colab-df-convert');\n",
              "        buttonEl.style.display =\n",
              "          google.colab.kernel.accessAllowed ? 'block' : 'none';\n",
              "\n",
              "        async function convertToInteractive(key) {\n",
              "          const element = document.querySelector('#df-a08ee765-a865-40c6-a7c7-7953c8aadd0e');\n",
              "          const dataTable =\n",
              "            await google.colab.kernel.invokeFunction('convertToInteractive',\n",
              "                                                     [key], {});\n",
              "          if (!dataTable) return;\n",
              "\n",
              "          const docLinkHtml = 'Like what you see? Visit the ' +\n",
              "            '<a target=\"_blank\" href=https://colab.research.google.com/notebooks/data_table.ipynb>data table notebook</a>'\n",
              "            + ' to learn more about interactive tables.';\n",
              "          element.innerHTML = '';\n",
              "          dataTable['output_type'] = 'display_data';\n",
              "          await google.colab.output.renderOutput(dataTable, element);\n",
              "          const docLink = document.createElement('div');\n",
              "          docLink.innerHTML = docLinkHtml;\n",
              "          element.appendChild(docLink);\n",
              "        }\n",
              "      </script>\n",
              "    </div>\n",
              "  </div>\n",
              "  "
            ]
          },
          "metadata": {},
          "execution_count": 11
        }
      ]
    },
    {
      "cell_type": "code",
      "source": [
        "df_clean[[\"Country_Name\",\"Country_Code\"]].dtypes"
      ],
      "metadata": {
        "colab": {
          "base_uri": "https://localhost:8080/"
        },
        "id": "Bj3ctFI3nQr8",
        "outputId": "68c6795e-ead1-4a5f-9dff-a5c44f3b12d5"
      },
      "execution_count": 12,
      "outputs": [
        {
          "output_type": "execute_result",
          "data": {
            "text/plain": [
              "Country_Name    string\n",
              "Country_Code    string\n",
              "dtype: object"
            ]
          },
          "metadata": {},
          "execution_count": 12
        }
      ]
    },
    {
      "cell_type": "markdown",
      "source": [
        "## Exploring the data"
      ],
      "metadata": {
        "id": "y0jBEAJ6n53s"
      }
    },
    {
      "cell_type": "markdown",
      "source": [
        "The dataset is now clean so let's start visualizing what we have in it."
      ],
      "metadata": {
        "id": "p9jvYkDboBgw"
      }
    },
    {
      "cell_type": "code",
      "source": [
        "df_clean.head()"
      ],
      "metadata": {
        "colab": {
          "base_uri": "https://localhost:8080/",
          "height": 369
        },
        "id": "0hR_nXYXnWNN",
        "outputId": "d2f23cad-72ed-4f16-fe95-ccb5b04fe67b"
      },
      "execution_count": 13,
      "outputs": [
        {
          "output_type": "execute_result",
          "data": {
            "text/plain": [
              "                  Country_Name Country_Code        1960        1961  \\\n",
              "0                        Aruba          ABW    0.000000    0.000000   \n",
              "1  Africa Eastern and Southern          AFE  162.913035  162.551683   \n",
              "2                  Afghanistan          AFG   62.369375   62.443703   \n",
              "3   Africa Western and Central          AFW  106.976475  112.047561   \n",
              "4                       Angola          AGO    0.000000    0.000000   \n",
              "\n",
              "         1962        1963        1964        1965        1966        1967  \\\n",
              "0    0.000000    0.000000    0.000000    0.000000    0.000000    0.000000   \n",
              "1  172.002460  199.189238  179.387799  198.230368  209.414665  211.707060   \n",
              "2   60.950364   82.021738   85.511073  105.243196  143.103233  167.165675   \n",
              "3  117.730633  122.278715  130.599963  137.186142  142.895375  127.303606   \n",
              "4    0.000000    0.000000    0.000000    0.000000    0.000000    0.000000   \n",
              "\n",
              "   ...          2012          2013          2014          2015          2016  \\\n",
              "0  ...  25609.955720  26515.678080  26942.307980  28421.386490  28451.273740   \n",
              "1  ...   1759.182395   1730.394686   1719.183721   1538.552268   1443.692371   \n",
              "2  ...    663.141053    651.987862    628.146804    592.476537    520.252064   \n",
              "3  ...   1953.407033   2149.295219   2243.271464   1876.623483   1645.023767   \n",
              "4  ...   4962.552072   5101.983876   5059.080441   3100.830685   1709.515534   \n",
              "\n",
              "           2017          2018          2019          2020          2021  \n",
              "0  29326.708060  30220.594520  31650.760540  24487.863560  29342.100860  \n",
              "1   1628.586788   1564.734340   1512.270553   1363.540741   1549.772730  \n",
              "2    530.149831    502.056771    500.522664    516.866552    368.754614  \n",
              "3   1585.911930   1731.311792   1749.303317   1683.436391   1757.030626  \n",
              "4   2283.214233   2487.500996   2142.238757   1603.993477   1953.533757  \n",
              "\n",
              "[5 rows x 64 columns]"
            ],
            "text/html": [
              "\n",
              "  <div id=\"df-a42f4e45-2b00-491f-8103-e7769774f89b\">\n",
              "    <div class=\"colab-df-container\">\n",
              "      <div>\n",
              "<style scoped>\n",
              "    .dataframe tbody tr th:only-of-type {\n",
              "        vertical-align: middle;\n",
              "    }\n",
              "\n",
              "    .dataframe tbody tr th {\n",
              "        vertical-align: top;\n",
              "    }\n",
              "\n",
              "    .dataframe thead th {\n",
              "        text-align: right;\n",
              "    }\n",
              "</style>\n",
              "<table border=\"1\" class=\"dataframe\">\n",
              "  <thead>\n",
              "    <tr style=\"text-align: right;\">\n",
              "      <th></th>\n",
              "      <th>Country_Name</th>\n",
              "      <th>Country_Code</th>\n",
              "      <th>1960</th>\n",
              "      <th>1961</th>\n",
              "      <th>1962</th>\n",
              "      <th>1963</th>\n",
              "      <th>1964</th>\n",
              "      <th>1965</th>\n",
              "      <th>1966</th>\n",
              "      <th>1967</th>\n",
              "      <th>...</th>\n",
              "      <th>2012</th>\n",
              "      <th>2013</th>\n",
              "      <th>2014</th>\n",
              "      <th>2015</th>\n",
              "      <th>2016</th>\n",
              "      <th>2017</th>\n",
              "      <th>2018</th>\n",
              "      <th>2019</th>\n",
              "      <th>2020</th>\n",
              "      <th>2021</th>\n",
              "    </tr>\n",
              "  </thead>\n",
              "  <tbody>\n",
              "    <tr>\n",
              "      <th>0</th>\n",
              "      <td>Aruba</td>\n",
              "      <td>ABW</td>\n",
              "      <td>0.000000</td>\n",
              "      <td>0.000000</td>\n",
              "      <td>0.000000</td>\n",
              "      <td>0.000000</td>\n",
              "      <td>0.000000</td>\n",
              "      <td>0.000000</td>\n",
              "      <td>0.000000</td>\n",
              "      <td>0.000000</td>\n",
              "      <td>...</td>\n",
              "      <td>25609.955720</td>\n",
              "      <td>26515.678080</td>\n",
              "      <td>26942.307980</td>\n",
              "      <td>28421.386490</td>\n",
              "      <td>28451.273740</td>\n",
              "      <td>29326.708060</td>\n",
              "      <td>30220.594520</td>\n",
              "      <td>31650.760540</td>\n",
              "      <td>24487.863560</td>\n",
              "      <td>29342.100860</td>\n",
              "    </tr>\n",
              "    <tr>\n",
              "      <th>1</th>\n",
              "      <td>Africa Eastern and Southern</td>\n",
              "      <td>AFE</td>\n",
              "      <td>162.913035</td>\n",
              "      <td>162.551683</td>\n",
              "      <td>172.002460</td>\n",
              "      <td>199.189238</td>\n",
              "      <td>179.387799</td>\n",
              "      <td>198.230368</td>\n",
              "      <td>209.414665</td>\n",
              "      <td>211.707060</td>\n",
              "      <td>...</td>\n",
              "      <td>1759.182395</td>\n",
              "      <td>1730.394686</td>\n",
              "      <td>1719.183721</td>\n",
              "      <td>1538.552268</td>\n",
              "      <td>1443.692371</td>\n",
              "      <td>1628.586788</td>\n",
              "      <td>1564.734340</td>\n",
              "      <td>1512.270553</td>\n",
              "      <td>1363.540741</td>\n",
              "      <td>1549.772730</td>\n",
              "    </tr>\n",
              "    <tr>\n",
              "      <th>2</th>\n",
              "      <td>Afghanistan</td>\n",
              "      <td>AFG</td>\n",
              "      <td>62.369375</td>\n",
              "      <td>62.443703</td>\n",
              "      <td>60.950364</td>\n",
              "      <td>82.021738</td>\n",
              "      <td>85.511073</td>\n",
              "      <td>105.243196</td>\n",
              "      <td>143.103233</td>\n",
              "      <td>167.165675</td>\n",
              "      <td>...</td>\n",
              "      <td>663.141053</td>\n",
              "      <td>651.987862</td>\n",
              "      <td>628.146804</td>\n",
              "      <td>592.476537</td>\n",
              "      <td>520.252064</td>\n",
              "      <td>530.149831</td>\n",
              "      <td>502.056771</td>\n",
              "      <td>500.522664</td>\n",
              "      <td>516.866552</td>\n",
              "      <td>368.754614</td>\n",
              "    </tr>\n",
              "    <tr>\n",
              "      <th>3</th>\n",
              "      <td>Africa Western and Central</td>\n",
              "      <td>AFW</td>\n",
              "      <td>106.976475</td>\n",
              "      <td>112.047561</td>\n",
              "      <td>117.730633</td>\n",
              "      <td>122.278715</td>\n",
              "      <td>130.599963</td>\n",
              "      <td>137.186142</td>\n",
              "      <td>142.895375</td>\n",
              "      <td>127.303606</td>\n",
              "      <td>...</td>\n",
              "      <td>1953.407033</td>\n",
              "      <td>2149.295219</td>\n",
              "      <td>2243.271464</td>\n",
              "      <td>1876.623483</td>\n",
              "      <td>1645.023767</td>\n",
              "      <td>1585.911930</td>\n",
              "      <td>1731.311792</td>\n",
              "      <td>1749.303317</td>\n",
              "      <td>1683.436391</td>\n",
              "      <td>1757.030626</td>\n",
              "    </tr>\n",
              "    <tr>\n",
              "      <th>4</th>\n",
              "      <td>Angola</td>\n",
              "      <td>AGO</td>\n",
              "      <td>0.000000</td>\n",
              "      <td>0.000000</td>\n",
              "      <td>0.000000</td>\n",
              "      <td>0.000000</td>\n",
              "      <td>0.000000</td>\n",
              "      <td>0.000000</td>\n",
              "      <td>0.000000</td>\n",
              "      <td>0.000000</td>\n",
              "      <td>...</td>\n",
              "      <td>4962.552072</td>\n",
              "      <td>5101.983876</td>\n",
              "      <td>5059.080441</td>\n",
              "      <td>3100.830685</td>\n",
              "      <td>1709.515534</td>\n",
              "      <td>2283.214233</td>\n",
              "      <td>2487.500996</td>\n",
              "      <td>2142.238757</td>\n",
              "      <td>1603.993477</td>\n",
              "      <td>1953.533757</td>\n",
              "    </tr>\n",
              "  </tbody>\n",
              "</table>\n",
              "<p>5 rows × 64 columns</p>\n",
              "</div>\n",
              "      <button class=\"colab-df-convert\" onclick=\"convertToInteractive('df-a42f4e45-2b00-491f-8103-e7769774f89b')\"\n",
              "              title=\"Convert this dataframe to an interactive table.\"\n",
              "              style=\"display:none;\">\n",
              "        \n",
              "  <svg xmlns=\"http://www.w3.org/2000/svg\" height=\"24px\"viewBox=\"0 0 24 24\"\n",
              "       width=\"24px\">\n",
              "    <path d=\"M0 0h24v24H0V0z\" fill=\"none\"/>\n",
              "    <path d=\"M18.56 5.44l.94 2.06.94-2.06 2.06-.94-2.06-.94-.94-2.06-.94 2.06-2.06.94zm-11 1L8.5 8.5l.94-2.06 2.06-.94-2.06-.94L8.5 2.5l-.94 2.06-2.06.94zm10 10l.94 2.06.94-2.06 2.06-.94-2.06-.94-.94-2.06-.94 2.06-2.06.94z\"/><path d=\"M17.41 7.96l-1.37-1.37c-.4-.4-.92-.59-1.43-.59-.52 0-1.04.2-1.43.59L10.3 9.45l-7.72 7.72c-.78.78-.78 2.05 0 2.83L4 21.41c.39.39.9.59 1.41.59.51 0 1.02-.2 1.41-.59l7.78-7.78 2.81-2.81c.8-.78.8-2.07 0-2.86zM5.41 20L4 18.59l7.72-7.72 1.47 1.35L5.41 20z\"/>\n",
              "  </svg>\n",
              "      </button>\n",
              "      \n",
              "  <style>\n",
              "    .colab-df-container {\n",
              "      display:flex;\n",
              "      flex-wrap:wrap;\n",
              "      gap: 12px;\n",
              "    }\n",
              "\n",
              "    .colab-df-convert {\n",
              "      background-color: #E8F0FE;\n",
              "      border: none;\n",
              "      border-radius: 50%;\n",
              "      cursor: pointer;\n",
              "      display: none;\n",
              "      fill: #1967D2;\n",
              "      height: 32px;\n",
              "      padding: 0 0 0 0;\n",
              "      width: 32px;\n",
              "    }\n",
              "\n",
              "    .colab-df-convert:hover {\n",
              "      background-color: #E2EBFA;\n",
              "      box-shadow: 0px 1px 2px rgba(60, 64, 67, 0.3), 0px 1px 3px 1px rgba(60, 64, 67, 0.15);\n",
              "      fill: #174EA6;\n",
              "    }\n",
              "\n",
              "    [theme=dark] .colab-df-convert {\n",
              "      background-color: #3B4455;\n",
              "      fill: #D2E3FC;\n",
              "    }\n",
              "\n",
              "    [theme=dark] .colab-df-convert:hover {\n",
              "      background-color: #434B5C;\n",
              "      box-shadow: 0px 1px 3px 1px rgba(0, 0, 0, 0.15);\n",
              "      filter: drop-shadow(0px 1px 2px rgba(0, 0, 0, 0.3));\n",
              "      fill: #FFFFFF;\n",
              "    }\n",
              "  </style>\n",
              "\n",
              "      <script>\n",
              "        const buttonEl =\n",
              "          document.querySelector('#df-a42f4e45-2b00-491f-8103-e7769774f89b button.colab-df-convert');\n",
              "        buttonEl.style.display =\n",
              "          google.colab.kernel.accessAllowed ? 'block' : 'none';\n",
              "\n",
              "        async function convertToInteractive(key) {\n",
              "          const element = document.querySelector('#df-a42f4e45-2b00-491f-8103-e7769774f89b');\n",
              "          const dataTable =\n",
              "            await google.colab.kernel.invokeFunction('convertToInteractive',\n",
              "                                                     [key], {});\n",
              "          if (!dataTable) return;\n",
              "\n",
              "          const docLinkHtml = 'Like what you see? Visit the ' +\n",
              "            '<a target=\"_blank\" href=https://colab.research.google.com/notebooks/data_table.ipynb>data table notebook</a>'\n",
              "            + ' to learn more about interactive tables.';\n",
              "          element.innerHTML = '';\n",
              "          dataTable['output_type'] = 'display_data';\n",
              "          await google.colab.output.renderOutput(dataTable, element);\n",
              "          const docLink = document.createElement('div');\n",
              "          docLink.innerHTML = docLinkHtml;\n",
              "          element.appendChild(docLink);\n",
              "        }\n",
              "      </script>\n",
              "    </div>\n",
              "  </div>\n",
              "  "
            ]
          },
          "metadata": {},
          "execution_count": 13
        }
      ]
    },
    {
      "cell_type": "markdown",
      "source": [
        "We note that each row of this dataset corresponds to the GDP data of a country, so we have as many countries as columns."
      ],
      "metadata": {
        "id": "WN9Dr4lOoTOd"
      }
    },
    {
      "cell_type": "code",
      "source": [
        "df_clean.shape"
      ],
      "metadata": {
        "colab": {
          "base_uri": "https://localhost:8080/"
        },
        "id": "dzpVs_gZoP1G",
        "outputId": "9283f4d6-8c31-4311-8dc9-810825ea850b"
      },
      "execution_count": 14,
      "outputs": [
        {
          "output_type": "execute_result",
          "data": {
            "text/plain": [
              "(266, 64)"
            ]
          },
          "metadata": {},
          "execution_count": 14
        }
      ]
    },
    {
      "cell_type": "markdown",
      "source": [
        "In this dataset there are 266 countries. We can eliminate the code column since it provides less information than the complete country name."
      ],
      "metadata": {
        "id": "VOa20gudpBZk"
      }
    },
    {
      "cell_type": "code",
      "source": [
        "df_final = df_clean.drop(columns=\"Country_Code\")"
      ],
      "metadata": {
        "id": "yucjAbHyo5yr"
      },
      "execution_count": 15,
      "outputs": []
    },
    {
      "cell_type": "markdown",
      "source": [
        "Now that we have our final dataset we have about 266 countries to solve all the questions that may arise. For example, in this notebook we want to know:\n",
        "\n",
        "1. Which countries have had the highest GDP in the last ten years? And which the lowest?\n",
        "\n",
        "2. Which country has the biggest difference between the years 1960 and 2021?"
      ],
      "metadata": {
        "id": "EqWV5KrosBUW"
      }
    },
    {
      "cell_type": "markdown",
      "source": [
        "Let's start with the question number 1."
      ],
      "metadata": {
        "id": "eBG2NU7isWG4"
      }
    },
    {
      "cell_type": "markdown",
      "source": [
        "To determine which country has the highest GDP in the last 10 years, we must first isolate the columns that provide us with information. That is Name + 2012:2021."
      ],
      "metadata": {
        "id": "ZgDKvLqot6Xy"
      }
    },
    {
      "cell_type": "code",
      "source": [
        "columns = [0] + list(range(53,63)) # Name + Last 10 years\n",
        "last_10years = df_final[df_final.columns[columns]] \n",
        "last_10years.head()"
      ],
      "metadata": {
        "id": "IIQ9pmpgqJ7J",
        "colab": {
          "base_uri": "https://localhost:8080/",
          "height": 206
        },
        "outputId": "f90f450c-3a23-46a9-b080-9669c7b970dc"
      },
      "execution_count": 16,
      "outputs": [
        {
          "output_type": "execute_result",
          "data": {
            "text/plain": [
              "                  Country_Name          2012          2013          2014  \\\n",
              "0                        Aruba  25609.955720  26515.678080  26942.307980   \n",
              "1  Africa Eastern and Southern   1759.182395   1730.394686   1719.183721   \n",
              "2                  Afghanistan    663.141053    651.987862    628.146804   \n",
              "3   Africa Western and Central   1953.407033   2149.295219   2243.271464   \n",
              "4                       Angola   4962.552072   5101.983876   5059.080441   \n",
              "\n",
              "           2015          2016          2017          2018          2019  \\\n",
              "0  28421.386490  28451.273740  29326.708060  30220.594520  31650.760540   \n",
              "1   1538.552268   1443.692371   1628.586788   1564.734340   1512.270553   \n",
              "2    592.476537    520.252064    530.149831    502.056771    500.522664   \n",
              "3   1876.623483   1645.023767   1585.911930   1731.311792   1749.303317   \n",
              "4   3100.830685   1709.515534   2283.214233   2487.500996   2142.238757   \n",
              "\n",
              "           2020          2021  \n",
              "0  24487.863560  29342.100860  \n",
              "1   1363.540741   1549.772730  \n",
              "2    516.866552    368.754614  \n",
              "3   1683.436391   1757.030626  \n",
              "4   1603.993477   1953.533757  "
            ],
            "text/html": [
              "\n",
              "  <div id=\"df-5caa234b-d23d-4a5b-938c-5d6da5de7db0\">\n",
              "    <div class=\"colab-df-container\">\n",
              "      <div>\n",
              "<style scoped>\n",
              "    .dataframe tbody tr th:only-of-type {\n",
              "        vertical-align: middle;\n",
              "    }\n",
              "\n",
              "    .dataframe tbody tr th {\n",
              "        vertical-align: top;\n",
              "    }\n",
              "\n",
              "    .dataframe thead th {\n",
              "        text-align: right;\n",
              "    }\n",
              "</style>\n",
              "<table border=\"1\" class=\"dataframe\">\n",
              "  <thead>\n",
              "    <tr style=\"text-align: right;\">\n",
              "      <th></th>\n",
              "      <th>Country_Name</th>\n",
              "      <th>2012</th>\n",
              "      <th>2013</th>\n",
              "      <th>2014</th>\n",
              "      <th>2015</th>\n",
              "      <th>2016</th>\n",
              "      <th>2017</th>\n",
              "      <th>2018</th>\n",
              "      <th>2019</th>\n",
              "      <th>2020</th>\n",
              "      <th>2021</th>\n",
              "    </tr>\n",
              "  </thead>\n",
              "  <tbody>\n",
              "    <tr>\n",
              "      <th>0</th>\n",
              "      <td>Aruba</td>\n",
              "      <td>25609.955720</td>\n",
              "      <td>26515.678080</td>\n",
              "      <td>26942.307980</td>\n",
              "      <td>28421.386490</td>\n",
              "      <td>28451.273740</td>\n",
              "      <td>29326.708060</td>\n",
              "      <td>30220.594520</td>\n",
              "      <td>31650.760540</td>\n",
              "      <td>24487.863560</td>\n",
              "      <td>29342.100860</td>\n",
              "    </tr>\n",
              "    <tr>\n",
              "      <th>1</th>\n",
              "      <td>Africa Eastern and Southern</td>\n",
              "      <td>1759.182395</td>\n",
              "      <td>1730.394686</td>\n",
              "      <td>1719.183721</td>\n",
              "      <td>1538.552268</td>\n",
              "      <td>1443.692371</td>\n",
              "      <td>1628.586788</td>\n",
              "      <td>1564.734340</td>\n",
              "      <td>1512.270553</td>\n",
              "      <td>1363.540741</td>\n",
              "      <td>1549.772730</td>\n",
              "    </tr>\n",
              "    <tr>\n",
              "      <th>2</th>\n",
              "      <td>Afghanistan</td>\n",
              "      <td>663.141053</td>\n",
              "      <td>651.987862</td>\n",
              "      <td>628.146804</td>\n",
              "      <td>592.476537</td>\n",
              "      <td>520.252064</td>\n",
              "      <td>530.149831</td>\n",
              "      <td>502.056771</td>\n",
              "      <td>500.522664</td>\n",
              "      <td>516.866552</td>\n",
              "      <td>368.754614</td>\n",
              "    </tr>\n",
              "    <tr>\n",
              "      <th>3</th>\n",
              "      <td>Africa Western and Central</td>\n",
              "      <td>1953.407033</td>\n",
              "      <td>2149.295219</td>\n",
              "      <td>2243.271464</td>\n",
              "      <td>1876.623483</td>\n",
              "      <td>1645.023767</td>\n",
              "      <td>1585.911930</td>\n",
              "      <td>1731.311792</td>\n",
              "      <td>1749.303317</td>\n",
              "      <td>1683.436391</td>\n",
              "      <td>1757.030626</td>\n",
              "    </tr>\n",
              "    <tr>\n",
              "      <th>4</th>\n",
              "      <td>Angola</td>\n",
              "      <td>4962.552072</td>\n",
              "      <td>5101.983876</td>\n",
              "      <td>5059.080441</td>\n",
              "      <td>3100.830685</td>\n",
              "      <td>1709.515534</td>\n",
              "      <td>2283.214233</td>\n",
              "      <td>2487.500996</td>\n",
              "      <td>2142.238757</td>\n",
              "      <td>1603.993477</td>\n",
              "      <td>1953.533757</td>\n",
              "    </tr>\n",
              "  </tbody>\n",
              "</table>\n",
              "</div>\n",
              "      <button class=\"colab-df-convert\" onclick=\"convertToInteractive('df-5caa234b-d23d-4a5b-938c-5d6da5de7db0')\"\n",
              "              title=\"Convert this dataframe to an interactive table.\"\n",
              "              style=\"display:none;\">\n",
              "        \n",
              "  <svg xmlns=\"http://www.w3.org/2000/svg\" height=\"24px\"viewBox=\"0 0 24 24\"\n",
              "       width=\"24px\">\n",
              "    <path d=\"M0 0h24v24H0V0z\" fill=\"none\"/>\n",
              "    <path d=\"M18.56 5.44l.94 2.06.94-2.06 2.06-.94-2.06-.94-.94-2.06-.94 2.06-2.06.94zm-11 1L8.5 8.5l.94-2.06 2.06-.94-2.06-.94L8.5 2.5l-.94 2.06-2.06.94zm10 10l.94 2.06.94-2.06 2.06-.94-2.06-.94-.94-2.06-.94 2.06-2.06.94z\"/><path d=\"M17.41 7.96l-1.37-1.37c-.4-.4-.92-.59-1.43-.59-.52 0-1.04.2-1.43.59L10.3 9.45l-7.72 7.72c-.78.78-.78 2.05 0 2.83L4 21.41c.39.39.9.59 1.41.59.51 0 1.02-.2 1.41-.59l7.78-7.78 2.81-2.81c.8-.78.8-2.07 0-2.86zM5.41 20L4 18.59l7.72-7.72 1.47 1.35L5.41 20z\"/>\n",
              "  </svg>\n",
              "      </button>\n",
              "      \n",
              "  <style>\n",
              "    .colab-df-container {\n",
              "      display:flex;\n",
              "      flex-wrap:wrap;\n",
              "      gap: 12px;\n",
              "    }\n",
              "\n",
              "    .colab-df-convert {\n",
              "      background-color: #E8F0FE;\n",
              "      border: none;\n",
              "      border-radius: 50%;\n",
              "      cursor: pointer;\n",
              "      display: none;\n",
              "      fill: #1967D2;\n",
              "      height: 32px;\n",
              "      padding: 0 0 0 0;\n",
              "      width: 32px;\n",
              "    }\n",
              "\n",
              "    .colab-df-convert:hover {\n",
              "      background-color: #E2EBFA;\n",
              "      box-shadow: 0px 1px 2px rgba(60, 64, 67, 0.3), 0px 1px 3px 1px rgba(60, 64, 67, 0.15);\n",
              "      fill: #174EA6;\n",
              "    }\n",
              "\n",
              "    [theme=dark] .colab-df-convert {\n",
              "      background-color: #3B4455;\n",
              "      fill: #D2E3FC;\n",
              "    }\n",
              "\n",
              "    [theme=dark] .colab-df-convert:hover {\n",
              "      background-color: #434B5C;\n",
              "      box-shadow: 0px 1px 3px 1px rgba(0, 0, 0, 0.15);\n",
              "      filter: drop-shadow(0px 1px 2px rgba(0, 0, 0, 0.3));\n",
              "      fill: #FFFFFF;\n",
              "    }\n",
              "  </style>\n",
              "\n",
              "      <script>\n",
              "        const buttonEl =\n",
              "          document.querySelector('#df-5caa234b-d23d-4a5b-938c-5d6da5de7db0 button.colab-df-convert');\n",
              "        buttonEl.style.display =\n",
              "          google.colab.kernel.accessAllowed ? 'block' : 'none';\n",
              "\n",
              "        async function convertToInteractive(key) {\n",
              "          const element = document.querySelector('#df-5caa234b-d23d-4a5b-938c-5d6da5de7db0');\n",
              "          const dataTable =\n",
              "            await google.colab.kernel.invokeFunction('convertToInteractive',\n",
              "                                                     [key], {});\n",
              "          if (!dataTable) return;\n",
              "\n",
              "          const docLinkHtml = 'Like what you see? Visit the ' +\n",
              "            '<a target=\"_blank\" href=https://colab.research.google.com/notebooks/data_table.ipynb>data table notebook</a>'\n",
              "            + ' to learn more about interactive tables.';\n",
              "          element.innerHTML = '';\n",
              "          dataTable['output_type'] = 'display_data';\n",
              "          await google.colab.output.renderOutput(dataTable, element);\n",
              "          const docLink = document.createElement('div');\n",
              "          docLink.innerHTML = docLinkHtml;\n",
              "          element.appendChild(docLink);\n",
              "        }\n",
              "      </script>\n",
              "    </div>\n",
              "  </div>\n",
              "  "
            ]
          },
          "metadata": {},
          "execution_count": 16
        }
      ]
    },
    {
      "cell_type": "markdown",
      "source": [
        "Having the table we must find the maximum values in each column and correlate them with the name of the country."
      ],
      "metadata": {
        "id": "Vx3PgZViuO88"
      }
    },
    {
      "cell_type": "code",
      "source": [
        "max = list(last_10years.max(axis=\"index\"))[1:]\n",
        "year = 2012\n",
        "country_max_gdp= []\n",
        "for gdp in max:\n",
        "  country_max_gdp.append(last_10years[last_10years[str(year)] == gdp].Country_Name.values[0])\n",
        "  year += 1"
      ],
      "metadata": {
        "id": "XNvCQhOBs3FM"
      },
      "execution_count": 17,
      "outputs": []
    },
    {
      "cell_type": "markdown",
      "source": [
        "To solve which country has the lowest GDP we have a NaN problem. We cannot state that a country with a GDP of 0 is the lowest because we do not have that data so we have to eliminate all those countries from our table before we can see which is the lowest value."
      ],
      "metadata": {
        "id": "D786jThf4XaR"
      }
    },
    {
      "cell_type": "code",
      "source": [
        "without_NaN = last_10years[last_10years[[\"2012\",\"2013\",\"2014\",\"2015\",\"2016\",\"2017\",\"2018\",\"2019\",\"2020\",\"2021\"]] != 0]\n",
        "min = list(without_NaN.min())[1:]\n",
        "year = 2012\n",
        "country_min_gdp= []\n",
        "for gdp in min:\n",
        "  country_min_gdp.append(last_10years[last_10years[str(year)] == gdp].Country_Name.values[0])\n",
        "  year += 1"
      ],
      "metadata": {
        "id": "gzJ1YXU-u6rn"
      },
      "execution_count": 18,
      "outputs": []
    },
    {
      "cell_type": "markdown",
      "source": [
        "Obtaining:"
      ],
      "metadata": {
        "id": "yqdfK8AZ4Z-c"
      }
    },
    {
      "cell_type": "code",
      "source": [
        "#TEST ---------\n",
        "print(\"the country with biggest GDP is:\",list(set(country_max_gdp)), \"with a current GDP in 2021 of: \", max[-1])\n",
        "print(\"the country with smallest GDP is:\",list(set(country_min_gdp)),\"with a current GDP in 2021 of; \", min[-1])"
      ],
      "metadata": {
        "colab": {
          "base_uri": "https://localhost:8080/"
        },
        "id": "V3WMmhPNxNeq",
        "outputId": "7515f9a6-a8ad-44df-ce1e-e3657ca812ab"
      },
      "execution_count": 19,
      "outputs": [
        {
          "output_type": "stream",
          "name": "stdout",
          "text": [
            "the country with biggest GDP is: ['Monaco'] with a current GDP in 2021 of:  234315.4605\n",
            "the country with smallest GDP is: ['Burundi'] with a current GDP in 2021 of;  221.4776762\n"
          ]
        }
      ]
    },
    {
      "cell_type": "markdown",
      "source": [
        "Continuing with the second question. Let's find out which country has the biggest difference and also which country has the smallest difference."
      ],
      "metadata": {
        "id": "D5D7L8JF6SPd"
      }
    },
    {
      "cell_type": "markdown",
      "source": [
        "We have the same problem as the previous question with NaN values."
      ],
      "metadata": {
        "id": "8CWepU8e6wiT"
      }
    },
    {
      "cell_type": "code",
      "source": [
        "without_NaN = df_final[df_final[[\"1960\",\"2021\"]] != 0]"
      ],
      "metadata": {
        "id": "qUm5qyBJySMp"
      },
      "execution_count": 20,
      "outputs": []
    },
    {
      "cell_type": "markdown",
      "source": [
        "We have to create a column for the difference of the two GDP and in the call of the final table we use the index to determine which country has the biggest and smallest difference."
      ],
      "metadata": {
        "id": "ICp4adK89BYX"
      }
    },
    {
      "cell_type": "code",
      "source": [
        "GDP_Diff = without_NaN.assign(\n",
        "                              GDP_Diff = lambda ds: ds[\"2021\"] - ds[\"1960\"]\n",
        "                              )\n",
        "max_diff = GDP_Diff.GDP_Diff.max()\n",
        "min_diff = GDP_Diff.GDP_Diff.min()\n"
      ],
      "metadata": {
        "id": "H01lAE6czeQN"
      },
      "execution_count": 21,
      "outputs": []
    },
    {
      "cell_type": "code",
      "source": [
        "#TEST ---------\n",
        "print(\"the country with biggest GDP increment is:\",df_final.iloc[GDP_Diff[GDP_Diff[\"GDP_Diff\"]==max_diff].index].Country_Name.values[0], \"with a GDP of: \", max_diff)\n",
        "print(\"the country with smallest GDP increment is:\",df_final.iloc[GDP_Diff[GDP_Diff[\"GDP_Diff\"]==min_diff].index].Country_Name.values[0],\"with a GDP of: \", min_diff)"
      ],
      "metadata": {
        "colab": {
          "base_uri": "https://localhost:8080/"
        },
        "id": "YN36SIBF7VsS",
        "outputId": "db8661e9-862b-453a-b828-9a2cd1ea008e"
      },
      "execution_count": 22,
      "outputs": [
        {
          "output_type": "stream",
          "name": "stdout",
          "text": [
            "the country with biggest GDP increment is: Luxembourg with a GDP of:  131348.131183\n",
            "the country with smallest GDP increment is: Burundi with a GDP of:  150.11745194999997\n"
          ]
        }
      ]
    },
    {
      "cell_type": "markdown",
      "source": [
        "## Visualization"
      ],
      "metadata": {
        "id": "IT8m4uh0-AIs"
      }
    },
    {
      "cell_type": "markdown",
      "source": [
        "Finally, I would like to be able to visually see the GDP progress of different countries. As we have a lot of them let's define a function that will show us the GDP of each year of a given country."
      ],
      "metadata": {
        "id": "xcml6KqY-dsV"
      }
    },
    {
      "cell_type": "markdown",
      "source": [
        "### Imports of visualization"
      ],
      "metadata": {
        "id": "LRW7yodY-grU"
      }
    },
    {
      "cell_type": "code",
      "source": [
        "import matplotlib.pyplot as plt\n",
        "import seaborn as sns"
      ],
      "metadata": {
        "id": "hM7_v-Tw80kY"
      },
      "execution_count": 23,
      "outputs": []
    },
    {
      "cell_type": "markdown",
      "source": [
        "### Function"
      ],
      "metadata": {
        "id": "UXxz0_J--qdP"
      }
    },
    {
      "cell_type": "code",
      "source": [
        "def gpd (country):\n",
        "  \n",
        "  country_gdp = df_final[df_final[\"Country_Name\"] == country].drop(columns=\"Country_Name\")\n",
        "\n",
        "  gdp_df = pd.DataFrame({\n",
        "        'Year': list(country_gdp.columns),\n",
        "        'GDP': country_gdp[list(country_gdp.columns)].values[0]\n",
        "    })\n",
        "  \n",
        "  plt.title(\"GDP of \"+country)\n",
        "  sns.lineplot(x=\"Year\",y=\"GDP\",data=gdp_df)\n",
        "  plt.xticks(range(0, len(list(country_gdp.columns)), 10), list(country_gdp.columns)[::10])\n",
        "  plt.grid()\n",
        "  plt.show()"
      ],
      "metadata": {
        "id": "HinacVBg-t98"
      },
      "execution_count": 24,
      "outputs": []
    },
    {
      "cell_type": "markdown",
      "source": [
        "### Test"
      ],
      "metadata": {
        "id": "EtdNAgm1-unQ"
      }
    },
    {
      "cell_type": "markdown",
      "source": [
        "We have already defined the function to paint the graph so let's analyze the gdp of Spain."
      ],
      "metadata": {
        "id": "gd--SA4ZCvOv"
      }
    },
    {
      "cell_type": "code",
      "source": [
        "gpd(\"Spain\")"
      ],
      "metadata": {
        "colab": {
          "base_uri": "https://localhost:8080/",
          "height": 472
        },
        "id": "cq_fcrpW-zSo",
        "outputId": "e95f54cd-4e25-495d-8e77-2104eb728be5"
      },
      "execution_count": 25,
      "outputs": [
        {
          "output_type": "display_data",
          "data": {
            "text/plain": [
              "<Figure size 640x480 with 1 Axes>"
            ],
            "image/png": "[encoded data removed]"
          },
          "metadata": {}
        }
      ]
    },
    {
      "cell_type": "markdown",
      "source": [
        "We can observe that in the last 60 years Spain has increased its GPD considerably. There are 3 trend changes in the graph that correspond to the crises that the country has had, in 1980, 1993 and 2008."
      ],
      "metadata": {
        "id": "5K6Fhuo8C83M"
      }
    },
    {
      "cell_type": "markdown",
      "source": [
        "## Observations"
      ],
      "metadata": {
        "id": "VpGqwrzKD2pa"
      }
    },
    {
      "cell_type": "markdown",
      "source": [
        "This has been my process to clean and draw conclusions from a dataset found on the internet. Feel free to comment on any bugs I have or any changes to improve the code. This has been a practical example of the first stages of a dataset in data science. Making this notebook I have realized that despite working with a \"clean\" dataset you have to modify it according to what you want. "
      ],
      "metadata": {
        "id": "QEj8WOpVF0FN"
      }
    },
    {
      "cell_type": "code",
      "source": [],
      "metadata": {
        "id": "3zNo2G4cBM-O"
      },
      "execution_count": 25,
      "outputs": []
    }
  ]
}